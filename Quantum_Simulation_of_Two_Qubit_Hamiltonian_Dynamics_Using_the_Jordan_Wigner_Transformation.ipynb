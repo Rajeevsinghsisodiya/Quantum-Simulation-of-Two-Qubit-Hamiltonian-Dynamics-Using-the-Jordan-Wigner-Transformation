{
  "nbformat": 4,
  "nbformat_minor": 0,
  "metadata": {
    "colab": {
      "provenance": []
    },
    "kernelspec": {
      "name": "python3",
      "display_name": "Python 3"
    },
    "language_info": {
      "name": "python"
    }
  },
  "cells": [
    {
      "cell_type": "markdown",
      "source": [
        "#Project name: \"Quantum Simulation of Two-Qubit Hamiltonian Dynamics Using the Jordan-Wigner Transformation\"\n",
        "\n",
        "\n",
        "Contributor: Rajeev singh sisodiya\n",
        "\n",
        "# Project Overview:\n",
        "This project focuses on simulating the dynamics of a two-qubit quantum system using QuTiP, a quantum computing library in Python. The core objective is to implement and explore a simplified quantum simulation framework that encodes a Hamiltonian using the Jordan-Wigner transformation, a method commonly used in quantum chemistry to map fermionic systems to qubits.\n",
        "\n",
        "The project begins by defining a quantum circuit that simulates key components of the Hamiltonian, such as one-body (kinetic energy) and two-body (Coulomb interaction) terms. The circuit is constructed using a combination of quantum gates, including Hadamard, CNOT, RX (rotation around the X-axis), and CRZ (controlled-RZ rotation) gates.\n",
        "\n",
        "After constructing the quantum circuit, the project simulates the time evolution of an initial quantum state (all qubits initialized to the\n",
        "∣\n",
        "0\n",
        "⟩\n",
        "∣0⟩ state). The final step involves measuring the expectation value of the\n",
        "𝑍\n",
        "0\n",
        "𝑍\n",
        "1\n",
        "Z\n",
        "0\n",
        "​\n",
        " Z\n",
        "1\n",
        "​\n",
        "  operator, which provides insights into the correlation between the qubits after the evolution governed by the Hamiltonian.\n",
        "\n",
        "This simulation serves as a fundamental example of how quantum circuits can model physical systems and lays the groundwork for more complex quantum simulations in quantum chemistry and materials science.\n"
      ],
      "metadata": {
        "id": "qS4g6eg0pz2q"
      }
    },
    {
      "cell_type": "markdown",
      "source": [
        "Let's create a basic Model to simulate the ground state of a hydrogen molecule.\n",
        "\n"
      ],
      "metadata": {
        "id": "r0kHcXVHqJpp"
      }
    },
    {
      "cell_type": "code",
      "source": [
        "!pip install quippy"
      ],
      "metadata": {
        "colab": {
          "base_uri": "https://localhost:8080/"
        },
        "collapsed": true,
        "id": "bKhzzjBbmzBA",
        "outputId": "3f66179a-56bc-4575-c942-6bfe893c3b1d"
      },
      "execution_count": 2,
      "outputs": [
        {
          "output_type": "stream",
          "name": "stdout",
          "text": [
            "Collecting quippy\n",
            "  Downloading quippy-0.3.3-py3-none-any.whl.metadata (2.1 kB)\n",
            "Collecting lark-parser<0.6,>=0.5.5 (from quippy)\n",
            "  Downloading lark-parser-0.5.6.tar.gz (198 kB)\n",
            "\u001b[2K     \u001b[90m━━━━━━━━━━━━━━━━━━━━━━━━━━━━━━━━━━━━━━━━\u001b[0m \u001b[32m198.2/198.2 kB\u001b[0m \u001b[31m1.7 MB/s\u001b[0m eta \u001b[36m0:00:00\u001b[0m\n",
            "\u001b[?25h  Preparing metadata (setup.py) ... \u001b[?25l\u001b[?25hdone\n",
            "Downloading quippy-0.3.3-py3-none-any.whl (22 kB)\n",
            "Building wheels for collected packages: lark-parser\n",
            "  Building wheel for lark-parser (setup.py) ... \u001b[?25l\u001b[?25hdone\n",
            "  Created wheel for lark-parser: filename=lark_parser-0.5.6-py2.py3-none-any.whl size=47719 sha256=ba955d49049c4d4f66ec103f8d57def79cd0b17edb13ce8ea96c0cddf13dd9b9\n",
            "  Stored in directory: /root/.cache/pip/wheels/4b/4a/12/876f7f75911c758a3f86726f4691b50f6fdb081549385775af\n",
            "Successfully built lark-parser\n",
            "Installing collected packages: lark-parser, quippy\n",
            "Successfully installed lark-parser-0.5.6 quippy-0.3.3\n"
          ]
        }
      ]
    },
    {
      "source": [
        "!pip install qutip-qip # Install the required qutip_qip package"
      ],
      "cell_type": "code",
      "metadata": {
        "colab": {
          "base_uri": "https://localhost:8080/"
        },
        "collapsed": true,
        "id": "g8YSQDYMpGHn",
        "outputId": "6561c719-65b3-49eb-bd5b-240549afec82"
      },
      "execution_count": 3,
      "outputs": [
        {
          "output_type": "stream",
          "name": "stdout",
          "text": [
            "Collecting qutip-qip\n",
            "  Downloading qutip_qip-0.3.1-py3-none-any.whl.metadata (7.8 kB)\n",
            "Requirement already satisfied: numpy>=1.16.6 in /usr/local/lib/python3.10/dist-packages (from qutip-qip) (1.26.4)\n",
            "Requirement already satisfied: scipy>=1.0 in /usr/local/lib/python3.10/dist-packages (from qutip-qip) (1.13.1)\n",
            "Collecting qutip>=4.6 (from qutip-qip)\n",
            "  Downloading qutip-5.0.3.post1-cp310-cp310-manylinux_2_17_x86_64.manylinux2014_x86_64.whl.metadata (9.2 kB)\n",
            "Requirement already satisfied: packaging in /usr/local/lib/python3.10/dist-packages (from qutip-qip) (24.1)\n",
            "Downloading qutip_qip-0.3.1-py3-none-any.whl (129 kB)\n",
            "\u001b[2K   \u001b[90m━━━━━━━━━━━━━━━━━━━━━━━━━━━━━━━━━━━━━━━━\u001b[0m \u001b[32m129.3/129.3 kB\u001b[0m \u001b[31m1.4 MB/s\u001b[0m eta \u001b[36m0:00:00\u001b[0m\n",
            "\u001b[?25hDownloading qutip-5.0.3.post1-cp310-cp310-manylinux_2_17_x86_64.manylinux2014_x86_64.whl (28.0 MB)\n",
            "\u001b[2K   \u001b[90m━━━━━━━━━━━━━━━━━━━━━━━━━━━━━━━━━━━━━━━━\u001b[0m \u001b[32m28.0/28.0 MB\u001b[0m \u001b[31m40.4 MB/s\u001b[0m eta \u001b[36m0:00:00\u001b[0m\n",
            "\u001b[?25hInstalling collected packages: qutip, qutip-qip\n",
            "Successfully installed qutip-5.0.3.post1 qutip-qip-0.3.1\n"
          ]
        }
      ]
    },
    {
      "cell_type": "markdown",
      "source": [],
      "metadata": {
        "id": "-k1fWxKOn48d"
      }
    },
    {
      "source": [
        "import qutip\n",
        "import qutip.qip\n",
        "\n",
        "# Define the number of qubits\n",
        "numQubits = 2\n",
        "\n",
        "# Implement the Jordan-Wigner transformation\n",
        "def jordanWigner(circuit):\n",
        "    circuit.add_gate(\"H\", targets=0)  # Hadamard gate on qubit 0\n",
        "    circuit.add_gate(\"CNOT\", controls=0, targets=1)  # CNOT gate with control 0 and target 1\n",
        "\n",
        "# Add a one-body term to the Hamiltonian (e.g., representing the kinetic energy)\n",
        "def addOneBodyTerm(circuit, i, coeff):\n",
        "    circuit.add_gate(\"RX\", targets=i, arg_value=coeff)  # RX gate on qubit i with angle coeff\n",
        "\n",
        "# Add a two-body term to the Hamiltonian (e.g., representing the Coulomb interaction)\n",
        "def addTwoBodyTerm(circuit, i, j, coeff):\n",
        "    circuit.add_gate(\"CRZ\", targets=j, controls=i, arg_value=coeff)  # CRZ gate with control i and target j with angle coeff\n",
        "\n",
        "# Encode the Hamiltonian\n",
        "def hamiltonian():\n",
        "    circuit = qutip.qip.circuit.QubitCircuit(numQubits)\n",
        "    jordanWigner(circuit)\n",
        "    addOneBodyTerm(circuit, 0, 1.0)\n",
        "    addOneBodyTerm(circuit, 1, 1.0)\n",
        "    addTwoBodyTerm(circuit, 0, 1, 2.0)\n",
        "    return circuit\n",
        "\n",
        "def main():\n",
        "    \"\"\"\n",
        "\n",
        "    \"\"\"\n",
        "    # Create a quantum state (|00...0>)\n",
        "    state = qutip.tensor([qutip.basis(2, 0) for _ in range(numQubits)])  # Tensor product of qubit states\n",
        "\n",
        "    # Generate the Hamiltonian circuit\n",
        "    circuit = hamiltonian()\n",
        "\n",
        "    # Run the circuit to get the unitary operator\n",
        "    U = circuit.propagators()[-1]  # Last propagator gives the final unitary\n",
        "\n",
        "    # Apply the unitary to the initial state\n",
        "    evolved_state = U * state  # Evolve the state\n",
        "\n",
        "    # Measuring observables - Example with sigmaz on both qubits\n",
        "    Z0 = qutip.tensor(qutip.sigmaz(), qutip.qeye(2))  # sigmaz on qubit 0\n",
        "    Z1 = qutip.tensor(qutip.qeye(2), qutip.sigmaz())  # sigmaz on qubit 1\n",
        "    ZZ = Z0 * Z1  # Combined operator\n",
        "\n",
        "\n",
        "    def main():\n",
        "    # ... (rest of the code remains the same)\n",
        "\n",
        "    # Expectation value of the ZZ operator\n",
        "           print(\"Expectation value of ZZ:\", (evolved_state.dag() * ZZ * evolved_state).tr().real)  # Extract the real part of the complex number\n",
        "\n",
        "main()\n"
      ],
      "cell_type": "code",
      "metadata": {
        "id": "coP25ADXoLnZ"
      },
      "execution_count": 24,
      "outputs": []
    },
    {
      "cell_type": "markdown",
      "source": [
        "#Heatmap"
      ],
      "metadata": {
        "id": "Jc8g0Y2X3-A2"
      }
    },
    {
      "cell_type": "code",
      "source": [
        "import qutip\n",
        "import qutip.qip\n",
        "import numpy as np\n",
        "import matplotlib.pyplot as plt\n",
        "\n",
        "# Define the number of qubits\n",
        "numQubits = 2\n",
        "\n",
        "# Implement the Jordan-Wigner transformation\n",
        "def jordanWigner(circuit):\n",
        "    circuit.add_gate(\"H\", targets=0)  # Hadamard gate on qubit 0\n",
        "    circuit.add_gate(\"CNOT\", controls=0, targets=1)  # CNOT gate with control 0 and target 1\n",
        "\n",
        "# Add a one-body term to the Hamiltonian (e.g., representing the kinetic energy)\n",
        "def addOneBodyTerm(circuit, i, coeff):\n",
        "    circuit.add_gate(\"RX\", targets=i, arg_value=coeff)  # RX gate on qubit i with angle coeff\n",
        "\n",
        "# Add a two-body term to the Hamiltonian (e.g., representing the Coulomb interaction)\n",
        "def addTwoBodyTerm(circuit, i, j, coeff):\n",
        "    circuit.add_gate(\"CRZ\", targets=j, controls=i, arg_value=coeff)  # CRZ gate with control i and target j with angle coeff\n",
        "\n",
        "# Encode the Hamiltonian\n",
        "def hamiltonian(coeff1, coeff2):\n",
        "    circuit = qutip.qip.circuit.QubitCircuit(numQubits)\n",
        "    jordanWigner(circuit)\n",
        "    addOneBodyTerm(circuit, 0, coeff1)\n",
        "    addOneBodyTerm(circuit, 1, coeff1)\n",
        "    addTwoBodyTerm(circuit, 0, 1, coeff2)\n",
        "    return circuit\n",
        "\n",
        "def calculate_expectation(coeff1, coeff2):\n",
        "    # Create a quantum state (|00...0>)\n",
        "    state = qutip.tensor([qutip.basis(2, 0) for _ in range(numQubits)])  # Tensor product of qubit states\n",
        "\n",
        "    # Generate the Hamiltonian circuit\n",
        "    circuit = hamiltonian(coeff1, coeff2)\n",
        "\n",
        "    # Run the circuit to get the unitary operator\n",
        "    U = circuit.propagators()[-1]  # Last propagator gives the final unitary\n",
        "\n",
        "    # Apply the unitary to the initial state\n",
        "    evolved_state = U * state  # Evolve the state\n",
        "\n",
        "    # Measuring observables - Example with sigmaz on both qubits\n",
        "    Z0 = qutip.tensor(qutip.sigmaz(), qutip.qeye(2))  # sigmaz on qubit 0\n",
        "    Z1 = qutip.tensor(qutip.qeye(2), qutip.sigmaz())  # sigmaz on qubit 1\n",
        "    ZZ = Z0 * Z1  # Combined operator\n",
        "\n",
        "            # Expectation value of the ZZ operator\n",
        "    expectation_value = qutip.expect(ZZ, evolved_state)  # Use qutip.expect to calculate expectation value\n",
        "    return expectation_value\n",
        "\n",
        "\n",
        "\n",
        "def main():\n",
        "    # Define the range of coefficients to sweep over\n",
        "    coeff1_range = np.linspace(0, 2 * np.pi, 50)  # Range for one-body term coefficients\n",
        "    coeff2_range = np.linspace(0, 2 * np.pi, 50)  # Range for two-body term coefficients\n",
        "\n",
        "    # Create a meshgrid for the heatmap\n",
        "    X, Y = np.meshgrid(coeff1_range, coeff2_range)\n",
        "    Z = np.zeros_like(X)\n",
        "\n",
        "    # Calculate the expectation values for the heatmap\n",
        "    for i in range(X.shape[0]):\n",
        "        for j in range(X.shape[1]):\n",
        "            Z[i, j] = calculate_expectation(X[i, j], Y[i, j])\n",
        "\n",
        "    # Plot the heatmap\n",
        "    plt.figure(figsize=(8, 6))\n",
        "    plt.contourf(X, Y, Z, 50, cmap='viridis')\n",
        "    plt.colorbar(label='Expectation value of ZZ')\n",
        "    plt.xlabel('One-body coefficient (coeff1)')\n",
        "    plt.ylabel('Two-body coefficient (coeff2)')\n",
        "    plt.title('Heatmap of ZZ Expectation Value')\n",
        "    plt.show()\n",
        "\n",
        "main()\n"
      ],
      "metadata": {
        "colab": {
          "base_uri": "https://localhost:8080/",
          "height": 564
        },
        "id": "Smk-Hcwwybxz",
        "outputId": "23eab803-3fcf-4275-fd80-a44110198fcb"
      },
      "execution_count": 30,
      "outputs": [
        {
          "output_type": "display_data",
          "data": {
            "text/plain": [
              "<Figure size 800x600 with 2 Axes>"
            ],
            "image/png": "[encoded data removed]"
          },
          "metadata": {}
        }
      ]
    },
    {
      "cell_type": "markdown",
      "source": [
        "#Confusion matrix\n",
        "To create a confusion matrix, typically you compare the predicted labels against the true labels in a classification problem. However, in the context of quantum circuits and the code we've provided, a \"confusion matrix\" doesn't directly apply since we're calculating expectation values rather than making predictions or classifications.\n",
        "\n"
      ],
      "metadata": {
        "id": "H3mbjDnY06XN"
      }
    },
    {
      "cell_type": "code",
      "source": [
        "import qutip\n",
        "import qutip.qip\n",
        "import numpy as np\n",
        "import matplotlib.pyplot as plt\n",
        "from sklearn.metrics import confusion_matrix, ConfusionMatrixDisplay\n",
        "\n",
        "# Define the number of qubits\n",
        "numQubits = 2\n",
        "\n",
        "# Implement the Jordan-Wigner transformation\n",
        "def jordanWigner(circuit):\n",
        "    circuit.add_gate(\"H\", targets=0)  # Hadamard gate on qubit 0\n",
        "    circuit.add_gate(\"CNOT\", controls=0, targets=1)  # CNOT gate with control 0 and target 1\n",
        "\n",
        "# Add a one-body term to the Hamiltonian (e.g., representing the kinetic energy)\n",
        "def addOneBodyTerm(circuit, i, coeff):\n",
        "    circuit.add_gate(\"RX\", targets=i, arg_value=coeff)  # RX gate on qubit i with angle coeff\n",
        "\n",
        "# Add a two-body term to the Hamiltonian (e.g., representing the Coulomb interaction)\n",
        "def addTwoBodyTerm(circuit, i, j, coeff):\n",
        "    circuit.add_gate(\"CRZ\", targets=j, controls=i, arg_value=coeff)  # CRZ gate with control i and target j with angle coeff\n",
        "\n",
        "# Encode the Hamiltonian\n",
        "def hamiltonian(coeff1, coeff2):\n",
        "    circuit = qutip.qip.circuit.QubitCircuit(numQubits)\n",
        "    jordanWigner(circuit)\n",
        "    addOneBodyTerm(circuit, 0, coeff1)\n",
        "    addOneBodyTerm(circuit, 1, coeff1)\n",
        "    addTwoBodyTerm(circuit, 0, 1, coeff2)\n",
        "    return circuit\n",
        "\n",
        "def calculate_expectation(coeff1, coeff2):\n",
        "    # Create a quantum state (|00...0>)\n",
        "    state = qutip.tensor([qutip.basis(2, 0) for _ in range(numQubits)])  # Tensor product of qubit states\n",
        "\n",
        "    # Generate the Hamiltonian circuit\n",
        "    circuit = hamiltonian(coeff1, coeff2)\n",
        "\n",
        "    # Run the circuit to get the unitary operator\n",
        "    U = circuit.propagators()[-1]  # Last propagator gives the final unitary\n",
        "\n",
        "    # Apply the unitary to the initial state\n",
        "    evolved_state = U * state  # Evolve the state\n",
        "\n",
        "    # Measuring observables - Example with sigmaz on both qubits\n",
        "    Z0 = qutip.tensor(qutip.sigmaz(), qutip.qeye(2))  # sigmaz on qubit 0\n",
        "    Z1 = qutip.tensor(qutip.qeye(2), qutip.sigmaz())  # sigmaz on qubit 1\n",
        "    ZZ = Z0 * Z1  # Combined operator\n",
        "\n",
        "    # Expectation value of the ZZ operator\n",
        "    expectation_value = qutip.expect(ZZ, evolved_state)  # Use qutip.expect to calculate expectation value\n",
        "    return expectation_value\n",
        "\n",
        "def main():\n",
        "    # Define the range of coefficients to sweep over\n",
        "    coeff1_range = np.linspace(0, 2 * np.pi, 50)  # Range for one-body term coefficients\n",
        "    coeff2_range = np.linspace(0, 2 * np.pi, 50)  # Range for two-body term coefficients\n",
        "\n",
        "    # Initialize lists for predicted and true labels\n",
        "    y_pred = []\n",
        "    y_true = []\n",
        "\n",
        "    # Define a threshold for binary classification (example: 0.5)\n",
        "    threshold = 0.5\n",
        "\n",
        "    # Calculate the expectation values and classify\n",
        "    for coeff1 in coeff1_range:\n",
        "        for coeff2 in coeff2_range:\n",
        "            expectation_value = calculate_expectation(coeff1, coeff2)\n",
        "            # Predict class based on threshold\n",
        "            y_pred.append(1 if expectation_value > threshold else 0)\n",
        "            # True class (this is just a placeholder, replace with actual logic)\n",
        "            y_true.append(1 if some_condition_based_on_coefficients(coeff1, coeff2) else 0)  # Replace with actual logic\n",
        "\n",
        "    # Create confusion matrix\n",
        "    cm = confusion_matrix(y_true, y_pred)\n",
        "    disp = ConfusionMatrixDisplay(confusion_matrix=cm)\n",
        "    disp.plot(cmap=plt.cm.Blues)\n",
        "    plt.show()\n",
        "\n",
        "def some_condition_based_on_coefficients(coeff1, coeff2):\n",
        "    # Example condition: could be a model or heuristic to determine true labels\n",
        "    # For simplicity, assume true label is 1 if coeff1 > coeff2, else 0\n",
        "    return coeff1 > coeff2\n",
        "\n",
        "main()\n"
      ],
      "metadata": {
        "colab": {
          "base_uri": "https://localhost:8080/",
          "height": 449
        },
        "id": "-l63rap50xcY",
        "outputId": "64bfe5cf-9e3a-4b4e-8df0-2b766297bb1e"
      },
      "execution_count": 31,
      "outputs": [
        {
          "output_type": "display_data",
          "data": {
            "text/plain": [
              "<Figure size 640x480 with 2 Axes>"
            ],
            "image/png": "[encoded data removed]"
          },
          "metadata": {}
        }
      ]
    },
    {
      "cell_type": "markdown",
      "source": [
        "Create a Correlation Map:"
      ],
      "metadata": {
        "id": "OEMeZi402C6v"
      }
    },
    {
      "source": [
        "import qutip\n",
        "import qutip.qip\n",
        "import numpy as np\n",
        "import matplotlib.pyplot as plt\n",
        "import seaborn as sns  # Seaborn is great for creating heatmaps\n",
        "import pandas as pd # Import pandas for DataFrame creation\n",
        "\n",
        "# Define the number of qubits\n",
        "numQubits = 2\n",
        "\n",
        "# Implement the Jordan-Wigner transformation\n",
        "def jordanWigner(circuit):\n",
        "    circuit.add_gate(\"H\", targets=0)  # Hadamard gate on qubit 0\n",
        "    circuit.add_gate(\"CNOT\", controls=0, targets=1)  # CNOT gate with control 0 and target 1\n",
        "\n",
        "# Add a one-body term to the Hamiltonian (e.g., representing the kinetic energy)\n",
        "def addOneBodyTerm(circuit, i, coeff):\n",
        "    circuit.add_gate(\"RX\", targets=i, arg_value=coeff)  # RX gate on qubit i with angle coeff\n",
        "\n",
        "# Add a two-body term to the Hamiltonian (e.g., representing the Coulomb interaction)\n",
        "def addTwoBodyTerm(circuit, i, j, coeff):\n",
        "    circuit.add_gate(\"CRZ\", targets=j, controls=i, arg_value=coeff)  # CRZ gate with control i and target j with angle coeff\n",
        "\n",
        "# Encode the Hamiltonian\n",
        "def hamiltonian():\n",
        "    circuit = qutip.qip.circuit.QubitCircuit(numQubits)\n",
        "    jordanWigner(circuit)\n",
        "    addOneBodyTerm(circuit, 0, 1.0)\n",
        "    addOneBodyTerm(circuit, 1, 1.0)\n",
        "    addTwoBodyTerm(circuit, 0, 1, 2.0)\n",
        "    return circuit\n",
        "\n",
        "# Function to calculate expectation values for a given observable\n",
        "def calculate_expectation(observable, state):\n",
        "    return qutip.expect(observable, state)\n",
        "\n",
        "\n",
        "def main():\n",
        "    # Create a quantum state (|00...0>)\n",
        "    state = qutip.tensor([qutip.basis(2, 0) for _ in range(numQubits)])  # Tensor product of qubit states\n",
        "\n",
        "    # Generate the Hamiltonian circuit\n",
        "    circuit = hamiltonian()\n",
        "\n",
        "    # Run the circuit to get the unitary operator\n",
        "    U = circuit.propagators()[-1]  # Last propagator gives the final unitary\n",
        "\n",
        "    # Apply the unitary to the initial state\n",
        "    evolved_state = U * state  # Evolve the state\n",
        "\n",
        "\n",
        "     # Define the observables you want to measure\n",
        "    # This dictionary maps observable names to their QuTiP representations\n",
        "    observables = {\n",
        "        'Z0': qutip.tensor(qutip.sigmaz(), qutip.qeye(2)),\n",
        "        'Z1': qutip.tensor(qutip.qeye(2), qutip.sigmaz()),\n",
        "        'X0': qutip.tensor(qutip.sigmax(), qutip.qeye(2)),\n",
        "        'X1': qutip.tensor(qutip.qeye(2), qutip.sigmax()),\n",
        "        'ZZ': qutip.tensor(qutip.sigmaz(), qutip.sigmaz())\n",
        "    }\n",
        "\n",
        "    # Calculate the expectation values\n",
        "    expectation_values = {}\n",
        "    for name, observable in observables.items():\n",
        "        expectation_values[name] = calculate_expectation(observable, evolved_state)\n",
        "\n",
        "    # **Changes here:**\n",
        "    # Create a DataFrame for the correlation matrix calculation\n",
        "    df = pd.DataFrame(expectation_values, index=[0]) # Creating a DataFrame to hold the values\n",
        "\n",
        "    # Calculate the correlation matrix from the DataFrame\n",
        "    correlation_matrix = df.corr()\n",
        "\n",
        "    # Plot the correlation matrix as a heatmap\n",
        "    plt.figure(figsize=(8, 6))\n",
        "    sns.heatmap(correlation_matrix, annot=True, xticklabels=observables.keys(),\n",
        "                yticklabels=observables.keys(), cmap='coolwarm')\n",
        "    plt.title('Correlation Matrix of Quantum Observables')\n",
        "    plt.show()\n",
        "\n",
        "main()"
      ],
      "cell_type": "code",
      "metadata": {
        "colab": {
          "base_uri": "https://localhost:8080/",
          "height": 614
        },
        "id": "2NU5hUxL3P7_",
        "outputId": "7bb08c9d-6f0c-4949-cf45-75b1cde3e262"
      },
      "execution_count": 35,
      "outputs": [
        {
          "output_type": "stream",
          "name": "stderr",
          "text": [
            "/usr/local/lib/python3.10/dist-packages/seaborn/matrix.py:202: RuntimeWarning: All-NaN slice encountered\n",
            "  vmin = np.nanmin(calc_data)\n",
            "/usr/local/lib/python3.10/dist-packages/seaborn/matrix.py:207: RuntimeWarning: All-NaN slice encountered\n",
            "  vmax = np.nanmax(calc_data)\n"
          ]
        },
        {
          "output_type": "display_data",
          "data": {
            "text/plain": [
              "<Figure size 800x600 with 2 Axes>"
            ],
            "image/png": "[encoded data removed]"
          },
          "metadata": {}
        }
      ]
    },
    {
      "cell_type": "markdown",
      "source": [
        "#Model and Accuracy Calculation:\n"
      ],
      "metadata": {
        "id": "SM7w0Ahg4ywh"
      }
    },
    {
      "cell_type": "code",
      "source": [
        "import qutip\n",
        "import qutip.qip\n",
        "import numpy as np\n",
        "from sklearn.metrics import accuracy_score\n",
        "\n",
        "# Define the number of qubits\n",
        "numQubits = 2\n",
        "\n",
        "# Implement the Jordan-Wigner transformation\n",
        "def jordanWigner(circuit):\n",
        "    circuit.add_gate(\"H\", targets=0)  # Hadamard gate on qubit 0\n",
        "    circuit.add_gate(\"CNOT\", controls=0, targets=1)  # CNOT gate with control 0 and target 1\n",
        "\n",
        "# Add a one-body term to the Hamiltonian (e.g., representing the kinetic energy)\n",
        "def addOneBodyTerm(circuit, i, coeff):\n",
        "    circuit.add_gate(\"RX\", targets=i, arg_value=coeff)  # RX gate on qubit i with angle coeff\n",
        "\n",
        "# Add a two-body term to the Hamiltonian (e.g., representing the Coulomb interaction)\n",
        "def addTwoBodyTerm(circuit, i, j, coeff):\n",
        "    circuit.add_gate(\"CRZ\", targets=j, controls=i, arg_value=coeff)  # CRZ gate with control i and target j with angle coeff\n",
        "\n",
        "# Encode the Hamiltonian\n",
        "def hamiltonian():\n",
        "    circuit = qutip.qip.circuit.QubitCircuit(numQubits)\n",
        "    jordanWigner(circuit)\n",
        "    addOneBodyTerm(circuit, 0, 1.0)\n",
        "    addOneBodyTerm(circuit, 1, 1.0)\n",
        "    addTwoBodyTerm(circuit, 0, 1, 2.0)\n",
        "    return circuit\n",
        "# Calculate the expectation value of the ZZ operator\n",
        "def calculate_zz_expectation(state):\n",
        "    Z0 = qutip.tensor(qutip.sigmaz(), qutip.qeye(2))  # sigmaz on qubit 0\n",
        "    Z1 = qutip.tensor(qutip.qeye(2), qutip.sigmaz())  # sigmaz on qubit 1\n",
        "    ZZ = Z0 * Z1  # Combined operator\n",
        "    expectation = (state.dag() * ZZ * state)  # Calculate expectation\n",
        "    return expectation.real  # Extract the real part of the expectation value directly\n",
        "\n",
        "\n",
        "def main():\n",
        "    # Create a quantum state (|00...0>)\n",
        "    state = qutip.tensor([qutip.basis(2, 0) for _ in range(numQubits)])  # Tensor product of qubit states\n",
        "\n",
        "    # Generate the Hamiltonian circuit\n",
        "    circuit = hamiltonian()\n",
        "\n",
        "    # Run the circuit to get the unitary operator\n",
        "    U = circuit.propagators()[-1]  # Last propagator gives the final unitary\n",
        "\n",
        "    # Apply the unitary to the initial state\n",
        "    evolved_state = U * state  # Evolve the state\n",
        "\n",
        "    # Calculate the expectation value of the ZZ operator\n",
        "    expectation_value = calculate_zz_expectation(evolved_state)\n",
        "\n",
        "    # Define a threshold for classification\n",
        "    threshold = 0.5\n",
        "    predicted_class = 1 if expectation_value > threshold else 0\n",
        "\n",
        "    # Define ground truth (for the sake of example, we'll use a simple function of the coefficients)\n",
        "    # This is where you'd put your actual ground truth logic\n",
        "    ground_truth_class = 1 if expectation_value > 0 else 0\n",
        "\n",
        "    # Compare predicted_class with ground_truth_class and calculate accuracy\n",
        "    accuracy = accuracy_score([ground_truth_class], [predicted_class])\n",
        "\n",
        "    print(f\"Expectation value of ZZ: {expectation_value}\")\n",
        "    print(f\"Predicted class: {predicted_class}\")\n",
        "    print(f\"Ground truth class: {ground_truth_class}\")\n",
        "    print(f\"Accuracy: {accuracy}\")\n",
        "\n",
        "main()\n"
      ],
      "metadata": {
        "colab": {
          "base_uri": "https://localhost:8080/"
        },
        "id": "BzHBKzgr42uK",
        "outputId": "cfc73f8a-852e-4344-d26d-963204689995"
      },
      "execution_count": 39,
      "outputs": [
        {
          "output_type": "stream",
          "name": "stdout",
          "text": [
            "Expectation value of ZZ: 1.0\n",
            "Predicted class: 1\n",
            "Ground truth class: 1\n",
            "Accuracy: 1.0\n"
          ]
        }
      ]
    },
    {
      "cell_type": "markdown",
      "source": [
        "#Evaluation:\n",
        "Expectation Value of ZZ:\n",
        "\n",
        "The expectation value of 1.0 for the\n",
        "𝑍\n",
        "0\n",
        "𝑍\n",
        "1\n",
        "Z\n",
        "0\n",
        "​\n",
        " Z\n",
        "1\n",
        "​\n",
        "  operator indicates that the measurement of the operator\n",
        "𝑍\n",
        "0\n",
        "𝑍\n",
        "1\n",
        "Z\n",
        "0\n",
        "​\n",
        " Z\n",
        "1\n",
        "​\n",
        "  on the evolved quantum state consistently yields the maximum possible value. This suggests that the two qubits are perfectly correlated in the\n",
        "𝑍\n",
        "Z-basis (i.e., both qubits are in the same state, either both in\n",
        "∣\n",
        "0\n",
        "⟩\n",
        "∣0⟩ or both in\n",
        "∣\n",
        "1\n",
        "⟩\n",
        "∣1⟩).\n",
        "Predicted Class:\n",
        "\n",
        "Based on the threshold of 0.5, the predicted class is 1. This means that the model classified the quantum state as belonging to class 1, given that the expectation value exceeded the threshold.\n",
        "\n",
        "\n",
        "Ground Truth Class:\n",
        "\n",
        "The ground truth class is also 1, indicating that the actual (expected) classification for this quantum state, according to your ground truth logic, is indeed 1.\n",
        "\n",
        "Accuracy:\n",
        "\n",
        "The accuracy score of 1.0 (or 100%) means that the model's prediction perfectly matched the ground truth. In this single-instance evaluation, the prediction was correct.\n",
        "\n",
        "#Summary:\n",
        "The model accurately classified the quantum state based on the calculated expectation value.\n",
        "Given that both the predicted and ground truth classes are 1, and the accuracy is 100%, the model worked as expected for this particular example."
      ],
      "metadata": {
        "id": "H6stMbsS6Rns"
      }
    }
  ]
}